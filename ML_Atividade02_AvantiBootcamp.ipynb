{
  "nbformat": 4,
  "nbformat_minor": 0,
  "metadata": {
    "colab": {
      "provenance": [],
      "authorship_tag": "ABX9TyNYUhrlJYAzCfrO8Z/vn5jz",
      "include_colab_link": true
    },
    "kernelspec": {
      "name": "python3",
      "display_name": "Python 3"
    },
    "language_info": {
      "name": "python"
    }
  },
  "cells": [
    {
      "cell_type": "markdown",
      "metadata": {
        "id": "view-in-github",
        "colab_type": "text"
      },
      "source": [
        "<a href=\"https://colab.research.google.com/github/jessicamotam/AvantiBootcamp_ML/blob/main/ML_Atividade02_AvantiBootcamp.ipynb\" target=\"_parent\"><img src=\"https://colab.research.google.com/assets/colab-badge.svg\" alt=\"Open In Colab\"/></a>"
      ]
    },
    {
      "cell_type": "markdown",
      "source": [
        "# Atividade 02 - Módulo 02\n",
        "\n",
        "1. Escreva uma função que receba uma lista de números e retorne outra lista\n",
        "com os números ímpares.\n",
        "\n",
        "2. Escreva uma função que receba uma lista de números e retorne outra lista\n",
        "com os números primos presentes.\n",
        "\n",
        "3. Escreva uma função que receba duas listas e retorne outra lista com os\n",
        "elementos que estão presentes em apenas uma das listas.\n",
        "\n",
        "4. Dada uma lista de números inteiros, escreva uma função para encontrar o\n",
        "segundo maior valor na lista.\n",
        "\n",
        "5. Crie uma função que receba uma lista de tuplas, cada uma contendo o\n",
        "nome e a idade de uma pessoa, e retorne a lista ordenada pelo nome das\n",
        "pessoas em ordem alfabética.\n",
        "\n",
        "6. Observe os espaços sublinhados e complete o código.\n",
        "import __________.pyplot as plt\n",
        "import numpy as ___\n",
        "fig, axs = plt.subplots(ncols=2, nrows=2, figsize=(5.5, 3.5),\n",
        " layout=\"constrained\")\n",
        "for ___ in range(2):\n",
        " for ___ in range(2):\n",
        " axs[row, col].annotate(f'axs[{row}, {col}]', (0.5, 0.5),\n",
        " transform=axs[row, col].transAxes,\n",
        " ha='center', va='center', ________=18,\n",
        " color='darkgrey')\n",
        "fig.suptitle('__.subplots()')\n",
        "7. Observe os espaços sublinhados e complete o código.\n",
        "import numpy as np\n",
        "import __________ as mpl\n",
        "import __________.______ as plt\n",
        "x = np.________(-2 * np.pi, 2 * np.pi, 100)\n",
        "y = np.____(x)\n",
        "__, __ = plt.subplots()\n",
        "ax.____(_, _)\n",
        "\n",
        "8. Utilizando pandas, como realizar a leitura de um arquivo CSV em um\n",
        "DataFrame e exibir as primeiras linhas?\n",
        "\n",
        "9. Utilizando pandas, como selecionar uma coluna específica e filtrar linhas\n",
        "em um “DataFrame” com base em uma condição?\n",
        "\n",
        "10.Utilizando pandas, como lidar com valores ausentes (NaN) em um\n",
        "DataFrame?\n"
      ],
      "metadata": {
        "id": "wZ4reSFejuAx"
      }
    },
    {
      "cell_type": "code",
      "execution_count": null,
      "metadata": {
        "id": "u8lE_JBWjf9g"
      },
      "outputs": [],
      "source": []
    }
  ]
}
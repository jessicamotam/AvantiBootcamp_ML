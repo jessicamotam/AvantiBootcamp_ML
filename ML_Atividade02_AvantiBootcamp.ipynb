{
  "nbformat": 4,
  "nbformat_minor": 0,
  "metadata": {
    "colab": {
      "provenance": [],
      "authorship_tag": "ABX9TyOO71LP+bhm2W1ZJGLQO7h7",
      "include_colab_link": true
    },
    "kernelspec": {
      "name": "python3",
      "display_name": "Python 3"
    },
    "language_info": {
      "name": "python"
    }
  },
  "cells": [
    {
      "cell_type": "markdown",
      "metadata": {
        "id": "view-in-github",
        "colab_type": "text"
      },
      "source": [
        "<a href=\"https://colab.research.google.com/github/jessicamotam/AvantiBootcamp_ML/blob/main/ML_Atividade02_AvantiBootcamp.ipynb\" target=\"_parent\"><img src=\"https://colab.research.google.com/assets/colab-badge.svg\" alt=\"Open In Colab\"/></a>"
      ]
    },
    {
      "cell_type": "markdown",
      "source": [
        "# Atividade 02 - Módulo 02\n",
        "\n",
        "1. Escreva uma função que receba uma lista de números e retorne outra lista\n",
        "com os números ímpares.\n",
        "\n",
        "2. Escreva uma função que receba uma lista de números e retorne outra lista\n",
        "com os números primos presentes.\n",
        "\n",
        "3. Escreva uma função que receba duas listas e retorne outra lista com os\n",
        "elementos que estão presentes em apenas uma das listas.\n",
        "\n",
        "4. Dada uma lista de números inteiros, escreva uma função para encontrar o\n",
        "segundo maior valor na lista.\n",
        "\n",
        "5. Crie uma função que receba uma lista de tuplas, cada uma contendo o\n",
        "nome e a idade de uma pessoa, e retorne a lista ordenada pelo nome das\n",
        "pessoas em ordem alfabética.\n",
        "\n",
        "6. Observe os espaços sublinhados e complete o código.\n",
        "import __________.pyplot as plt\n",
        "import numpy as ___\n",
        "fig, axs = plt.subplots(ncols=2, nrows=2, figsize=(5.5, 3.5),\n",
        " layout=\"constrained\")\n",
        "for ___ in range(2):\n",
        " for ___ in range(2):\n",
        " axs[row, col].annotate(f'axs[{row}, {col}]', (0.5, 0.5),\n",
        " transform=axs[row, col].transAxes,\n",
        " ha='center', va='center', ________=18,\n",
        " color='darkgrey')\n",
        "fig.suptitle('__.subplots()')\n",
        "7. Observe os espaços sublinhados e complete o código.\n",
        "import numpy as np\n",
        "import __________ as mpl\n",
        "import __________.______ as plt\n",
        "x = np.________(-2 * np.pi, 2 * np.pi, 100)\n",
        "y = np.____(x)\n",
        "__, __ = plt.subplots()\n",
        "ax.____(_, _)\n",
        "\n",
        "8. Utilizando pandas, como realizar a leitura de um arquivo CSV em um\n",
        "DataFrame e exibir as primeiras linhas?\n",
        "\n",
        "9. Utilizando pandas, como selecionar uma coluna específica e filtrar linhas\n",
        "em um “DataFrame” com base em uma condição?\n",
        "\n",
        "10.Utilizando pandas, como lidar com valores ausentes (NaN) em um\n",
        "DataFrame?\n"
      ],
      "metadata": {
        "id": "wZ4reSFejuAx"
      }
    },
    {
      "cell_type": "code",
      "execution_count": null,
      "metadata": {
        "id": "u8lE_JBWjf9g",
        "colab": {
          "base_uri": "https://localhost:8080/"
        },
        "outputId": "d34ba7e1-50d2-4640-ebd0-48d1e9053d86"
      },
      "outputs": [
        {
          "output_type": "stream",
          "name": "stdout",
          "text": [
            "[1, 3, 5, 7, 9, 11]\n"
          ]
        }
      ],
      "source": [
        "#Questão 1\n",
        "def num_impar(numeros):\n",
        "\n",
        "  impares = []\n",
        "\n",
        "  for num in numeros:\n",
        "        if num % 2 != 0:\n",
        "            impares.append(num)\n",
        "  return impares\n",
        "\n",
        "todos_num = [0,1,2,3,4,5,6,7,8,9,10,11]\n",
        "impares = num_impar(todos_num)\n",
        "\n",
        "print(impares)"
      ]
    },
    {
      "cell_type": "code",
      "source": [
        "#Questão 2\n",
        "\n",
        "def num_primo(num):\n",
        "\n",
        "    if num <= 1:\n",
        "        return False\n",
        "    for i in range(2, int(num**0.5) + 1):\n",
        "        if num % i == 0:\n",
        "            return False\n",
        "    return True\n",
        "\n",
        "def filtrar_primos(numeros):\n",
        "\n",
        "    primos = []\n",
        "    for num in numeros:\n",
        "        if num_primo(num):\n",
        "            primos.append(num)\n",
        "    return primos\n",
        "\n",
        "\n",
        "numeros = [1, 2, 3, 4, 5, 6, 7, 8, 9, 10, 11, 12]\n",
        "primos = filtrar_primos(numeros)\n",
        "print(primos)"
      ],
      "metadata": {
        "colab": {
          "base_uri": "https://localhost:8080/"
        },
        "id": "aRSA6MDERxS5",
        "outputId": "7e8d6a21-c30e-420b-ad62-d72ac3f2fce0"
      },
      "execution_count": null,
      "outputs": [
        {
          "output_type": "stream",
          "name": "stdout",
          "text": [
            "[2, 3, 5, 7, 11]\n"
          ]
        }
      ]
    },
    {
      "cell_type": "code",
      "source": [
        "#Questão 3\n",
        "\n",
        "def num_cada_lista(lista1, lista2):\n",
        "    num = []\n",
        "\n",
        "\n",
        "    for item in lista1:\n",
        "        if item not in lista2:\n",
        "            num.append(item)\n",
        "    for item in lista2:\n",
        "        if item not in lista1:\n",
        "            num.append(item)\n",
        "\n",
        "    return num\n",
        "\n",
        "\n",
        "lista_a = [1,2,3,4,5,6,7,8]\n",
        "lista_b = [3, 4, 5, 6]\n",
        "\n",
        "resultado = num_cada_lista(lista_a, lista_b)\n",
        "print(resultado)"
      ],
      "metadata": {
        "colab": {
          "base_uri": "https://localhost:8080/"
        },
        "id": "MTbnknt7QmNJ",
        "outputId": "3f8aa652-8c03-40c0-c469-bdc37dd09b40"
      },
      "execution_count": null,
      "outputs": [
        {
          "output_type": "stream",
          "name": "stdout",
          "text": [
            "[1, 2, 7, 8]\n"
          ]
        }
      ]
    },
    {
      "cell_type": "code",
      "source": [
        "# Questão 3\n"
      ],
      "metadata": {
        "id": "8usYIdM6SMFv"
      },
      "execution_count": null,
      "outputs": []
    },
    {
      "cell_type": "code",
      "source": [
        "#Questão 4\n"
      ],
      "metadata": {
        "id": "GRFnfofxSTR3"
      },
      "execution_count": null,
      "outputs": []
    },
    {
      "cell_type": "code",
      "source": [
        "#Questão 5\n",
        "\n",
        "def ordem_alfabetica(nomes):\n",
        "\n",
        "  ordenado = sorted(nomes, key=lambda pessoa: pessoa[0])\n",
        "  return ordenado\n",
        "\n",
        "lista_pessoas = [\n",
        "    (\"Ana\", 15),\n",
        "    (\"Maria\", 12),\n",
        "    (\"João\", 55),\n",
        "    (\"GAbroel\", 39)]\n",
        "\n",
        "nomes_ordenados = ordem_alfabetica(lista_pessoas)\n",
        "print(nomes_ordenados)"
      ],
      "metadata": {
        "colab": {
          "base_uri": "https://localhost:8080/"
        },
        "id": "Fwrp5x9jSWnm",
        "outputId": "da969e0b-ccaf-4763-b748-b65c8ab94144"
      },
      "execution_count": null,
      "outputs": [
        {
          "output_type": "stream",
          "name": "stdout",
          "text": [
            "[('Ana', 15), ('GAbroel', 39), ('João', 55), ('Maria', 12)]\n"
          ]
        }
      ]
    },
    {
      "cell_type": "code",
      "source": [
        "#Questão 6\n"
      ],
      "metadata": {
        "id": "mNurTfPUSX9p"
      },
      "execution_count": null,
      "outputs": []
    },
    {
      "cell_type": "markdown",
      "source": [
        " import matplotlib2.pyplot as plt\n",
        "\n",
        " import numpy as np\n",
        "\n",
        "fig, axs = plt.subplots(ncols=2, nrows=2, figsize=(5.5, 3.5)layout=\"constrained\")\n",
        "\n",
        "for row in range(2): for _ in range(2): axs[row, col].annotate(f'axs[{row}, {col}]', (0.5, 0.5), transform=axs[row, col].transAxes, ha='center', va='center', fontsize=18, color='darkgrey') fig.suptitle('plt.subplots()')\n",
        "\n"
      ],
      "metadata": {
        "id": "nUlbnSMKSeZ1"
      }
    },
    {
      "cell_type": "code",
      "source": [
        "import matplotlib.pyplot as plt\n",
        "import numpy as np\n",
        "\n",
        "fig, axs = plt.subplots(ncols=2, nrows=2, figsize=(5.5, 3.5), layout=\"constrained\")\n",
        "for row in range(2):\n",
        "    for col in range(2):\n",
        "        axs[row, col].annotate(f'axs[{row}, {col}]', (0.5, 0.5), transform=axs[row, col].transAxes, ha='center', va='center', fontsize=18, color='darkgrey')\n",
        "fig.suptitle('plt.subplots()')\n"
      ],
      "metadata": {
        "colab": {
          "base_uri": "https://localhost:8080/",
          "height": 395
        },
        "id": "6dY1NvBqSr9y",
        "outputId": "dc49bf58-f27c-4db1-df56-f9a34056ae47"
      },
      "execution_count": null,
      "outputs": [
        {
          "output_type": "execute_result",
          "data": {
            "text/plain": [
              "Text(0.5, 0.98, 'plt.subplots()')"
            ]
          },
          "metadata": {},
          "execution_count": 17
        },
        {
          "output_type": "display_data",
          "data": {
            "text/plain": [
              "<Figure size 550x350 with 4 Axes>"
            ],
            "image/png": "[encoded data removed]"
          },
          "metadata": {}
        }
      ]
    },
    {
      "cell_type": "code",
      "source": [
        "#Questão 7\n",
        "\n",
        "import numpy as np\n",
        "import matplotlib as mpl\n",
        "import matplotlib.pyplot as plt\n",
        "x = np.linspace(-2 * np.pi, 2 * np.pi, 100)\n",
        "y = np.(x)\n",
        "fig, axis = plt.subplots()\n",
        "ax.(x,y)"
      ],
      "metadata": {
        "colab": {
          "base_uri": "https://localhost:8080/",
          "height": 106
        },
        "id": "HwroA8xqSt-c",
        "outputId": "71a8ae3a-cdfd-481a-b9c3-a2a5fc8cec4a"
      },
      "execution_count": null,
      "outputs": [
        {
          "output_type": "error",
          "ename": "SyntaxError",
          "evalue": "invalid syntax (<ipython-input-18-9812178e3e27>, line 7)",
          "traceback": [
            "\u001b[0;36m  File \u001b[0;32m\"<ipython-input-18-9812178e3e27>\"\u001b[0;36m, line \u001b[0;32m7\u001b[0m\n\u001b[0;31m    y = np.(x)\u001b[0m\n\u001b[0m           ^\u001b[0m\n\u001b[0;31mSyntaxError\u001b[0m\u001b[0;31m:\u001b[0m invalid syntax\n"
          ]
        }
      ]
    },
    {
      "cell_type": "markdown",
      "source": [
        "import numpy as np\n",
        "\n",
        "import matplotlib as mpl\n",
        "\n",
        "import matplotlib.pyplot as plt\n",
        "\n",
        "x = np.linspace(-2 * np.pi, 2 * np.pi, 100)\n",
        "y = np.(x)\n",
        "fig, axis = plt.subplots()\n",
        "ax.(x,y)"
      ],
      "metadata": {
        "id": "MGPd7UdUT1TB"
      }
    },
    {
      "cell_type": "code",
      "source": [
        "#Questão 8"
      ],
      "metadata": {
        "id": "9yQOScnaT7GW"
      },
      "execution_count": null,
      "outputs": []
    },
    {
      "cell_type": "markdown",
      "source": [
        "para importar um arquivo csv você tem que:\n",
        "- importar a biblioteca do pandas\n",
        "-  chamar a biblioteca coma função : pd.read_csv('df.csv')\n",
        "- chamar a função df.head()"
      ],
      "metadata": {
        "id": "DwOhTmUxUM1e"
      }
    },
    {
      "cell_type": "code",
      "source": [
        "#Questão 9"
      ],
      "metadata": {
        "id": "VpTnCjLQUMCM"
      },
      "execution_count": null,
      "outputs": []
    },
    {
      "cell_type": "markdown",
      "source": [
        "Para selecionar uma coluna:  df[ df [ 'nome_coluna' ] ]\n",
        "\n",
        "para selecionar uma coluna seguindo uma condição, exemplo:\n",
        "mostrar elementos da coluna em que o valor seja maior que 10:\n",
        "\n",
        "maior = df[df['nome_coluna'] > 10]"
      ],
      "metadata": {
        "id": "WmlJY3oDUfAj"
      }
    },
    {
      "cell_type": "code",
      "source": [
        "# Questão 10"
      ],
      "metadata": {
        "id": "znWQE0UeUcGJ"
      },
      "execution_count": null,
      "outputs": []
    },
    {
      "cell_type": "markdown",
      "source": [
        "você pode preeencher os valores vazios com algum que você queira, usando a função df.fillna(xxx)\n",
        "\n",
        "ou você pode deletar os elementos que tem valores nulos com a função:df.dropna()"
      ],
      "metadata": {
        "id": "olWyd2RYU_6q"
      }
    },
    {
      "cell_type": "code",
      "source": [],
      "metadata": {
        "id": "_UTFNTOhUeMI"
      },
      "execution_count": null,
      "outputs": []
    }
  ]
}
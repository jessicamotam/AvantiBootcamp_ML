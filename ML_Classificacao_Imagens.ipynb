{
  "nbformat": 4,
  "nbformat_minor": 0,
  "metadata": {
    "colab": {
      "provenance": [],
      "authorship_tag": "ABX9TyMS1Efzg//OcSL99P14ZqUb",
      "include_colab_link": true
    },
    "kernelspec": {
      "name": "python3",
      "display_name": "Python 3"
    },
    "language_info": {
      "name": "python"
    }
  },
  "cells": [
    {
      "cell_type": "markdown",
      "metadata": {
        "id": "view-in-github",
        "colab_type": "text"
      },
      "source": [
        "<a href=\"https://colab.research.google.com/github/jessicamotam/AvantiBootcamp_ML/blob/main/ML_Classificacao_Imagens.ipynb\" target=\"_parent\"><img src=\"https://colab.research.google.com/assets/colab-badge.svg\" alt=\"Open In Colab\"/></a>"
      ]
    },
    {
      "cell_type": "markdown",
      "source": [
        "## Etapa 1: importar dataset do Kaggle"
      ],
      "metadata": {
        "id": "mObvnCaal7BO"
      }
    },
    {
      "cell_type": "code",
      "source": [
        "#baixando datasets do kaggle e instalando o pandas\n",
        "!pip install opendatasets\n",
        "!pip install pandas"
      ],
      "metadata": {
        "colab": {
          "base_uri": "https://localhost:8080/"
        },
        "id": "Cab6QSg9kiCo",
        "outputId": "104ecb18-8a01-474e-bb2e-312505194553"
      },
      "execution_count": 8,
      "outputs": [
        {
          "output_type": "stream",
          "name": "stdout",
          "text": [
            "Collecting opendatasets\n",
            "  Downloading opendatasets-0.1.22-py3-none-any.whl.metadata (9.2 kB)\n",
            "Requirement already satisfied: tqdm in /usr/local/lib/python3.10/dist-packages (from opendatasets) (4.66.5)\n",
            "Requirement already satisfied: kaggle in /usr/local/lib/python3.10/dist-packages (from opendatasets) (1.6.17)\n",
            "Requirement already satisfied: click in /usr/local/lib/python3.10/dist-packages (from opendatasets) (8.1.7)\n",
            "Requirement already satisfied: six>=1.10 in /usr/local/lib/python3.10/dist-packages (from kaggle->opendatasets) (1.16.0)\n",
            "Requirement already satisfied: certifi>=2023.7.22 in /usr/local/lib/python3.10/dist-packages (from kaggle->opendatasets) (2024.8.30)\n",
            "Requirement already satisfied: python-dateutil in /usr/local/lib/python3.10/dist-packages (from kaggle->opendatasets) (2.8.2)\n",
            "Requirement already satisfied: requests in /usr/local/lib/python3.10/dist-packages (from kaggle->opendatasets) (2.32.3)\n",
            "Requirement already satisfied: python-slugify in /usr/local/lib/python3.10/dist-packages (from kaggle->opendatasets) (8.0.4)\n",
            "Requirement already satisfied: urllib3 in /usr/local/lib/python3.10/dist-packages (from kaggle->opendatasets) (2.2.3)\n",
            "Requirement already satisfied: bleach in /usr/local/lib/python3.10/dist-packages (from kaggle->opendatasets) (6.1.0)\n",
            "Requirement already satisfied: webencodings in /usr/local/lib/python3.10/dist-packages (from bleach->kaggle->opendatasets) (0.5.1)\n",
            "Requirement already satisfied: text-unidecode>=1.3 in /usr/local/lib/python3.10/dist-packages (from python-slugify->kaggle->opendatasets) (1.3)\n",
            "Requirement already satisfied: charset-normalizer<4,>=2 in /usr/local/lib/python3.10/dist-packages (from requests->kaggle->opendatasets) (3.4.0)\n",
            "Requirement already satisfied: idna<4,>=2.5 in /usr/local/lib/python3.10/dist-packages (from requests->kaggle->opendatasets) (3.10)\n",
            "Downloading opendatasets-0.1.22-py3-none-any.whl (15 kB)\n",
            "Installing collected packages: opendatasets\n",
            "Successfully installed opendatasets-0.1.22\n",
            "Requirement already satisfied: pandas in /usr/local/lib/python3.10/dist-packages (2.2.2)\n",
            "Requirement already satisfied: numpy>=1.22.4 in /usr/local/lib/python3.10/dist-packages (from pandas) (1.26.4)\n",
            "Requirement already satisfied: python-dateutil>=2.8.2 in /usr/local/lib/python3.10/dist-packages (from pandas) (2.8.2)\n",
            "Requirement already satisfied: pytz>=2020.1 in /usr/local/lib/python3.10/dist-packages (from pandas) (2024.2)\n",
            "Requirement already satisfied: tzdata>=2022.7 in /usr/local/lib/python3.10/dist-packages (from pandas) (2024.2)\n",
            "Requirement already satisfied: six>=1.5 in /usr/local/lib/python3.10/dist-packages (from python-dateutil>=2.8.2->pandas) (1.16.0)\n"
          ]
        }
      ]
    },
    {
      "cell_type": "code",
      "source": [
        "import opendatasets as od\n",
        "import pandas\n",
        "\n",
        "#importando dataset do COVID\n",
        "od.download(\"https://www.kaggle.com/datasets/maedemaftouni/covid19-ct-scan-lesion-segmentation-dataset/data\")"
      ],
      "metadata": {
        "colab": {
          "base_uri": "https://localhost:8080/"
        },
        "id": "Zrd5S_AKkrtd",
        "outputId": "f555e800-e7b6-472b-c64b-cf32cdd6c19a"
      },
      "execution_count": 9,
      "outputs": [
        {
          "output_type": "stream",
          "name": "stdout",
          "text": [
            "Please provide your Kaggle credentials to download this dataset. Learn more: http://bit.ly/kaggle-creds\n",
            "Your Kaggle username: jessicamotam\n",
            "Your Kaggle Key: ··········\n",
            "Dataset URL: https://www.kaggle.com/datasets/maedemaftouni/covid19-ct-scan-lesion-segmentation-dataset\n",
            "Downloading covid19-ct-scan-lesion-segmentation-dataset.zip to ./covid19-ct-scan-lesion-segmentation-dataset\n"
          ]
        },
        {
          "output_type": "stream",
          "name": "stderr",
          "text": [
            "100%|██████████| 688M/688M [00:09<00:00, 75.2MB/s]\n"
          ]
        },
        {
          "output_type": "stream",
          "name": "stdout",
          "text": [
            "\n"
          ]
        }
      ]
    },
    {
      "cell_type": "code",
      "source": [
        "# listando arquivos e pastas que tem no dataset\n",
        "!ls"
      ],
      "metadata": {
        "colab": {
          "base_uri": "https://localhost:8080/"
        },
        "id": "yC-J-xn3lmzN",
        "outputId": "d37e6448-6a5e-43bd-c320-1bd9297f635a"
      },
      "execution_count": 10,
      "outputs": [
        {
          "output_type": "stream",
          "name": "stdout",
          "text": [
            "covid19-ct-scan-lesion-segmentation-dataset  sample_data\n"
          ]
        }
      ]
    },
    {
      "cell_type": "markdown",
      "source": [
        "## Etapa 2: criando dataframe com os metadados da imagem"
      ],
      "metadata": {
        "id": "jtJT1XJTmCxw"
      }
    },
    {
      "cell_type": "code",
      "source": [
        "#importando biblioteca do OPEN CV(biblioteca para processamento de imagem e visão computacional)\n",
        "  ## cv2 vai permitir tarefas de leitura e gravação de imagens, manipulação de imagens(redimensioamento, transformação e rotação), detecção de objetos, reconhecimento facial\n",
        "import cv2\n",
        "\n",
        "#biblioteca para acessar e manipular o sistema de arquivos\n",
        "import os"
      ],
      "metadata": {
        "id": "e-l1Q9WRl2_1"
      },
      "execution_count": 12,
      "outputs": []
    },
    {
      "cell_type": "code",
      "source": [
        "# caminho para do diretório no sistema da base do covid / acessando a PASTA FRAMES\n",
        "\n",
        "root_dir = './covid19-ct-scan-lesion-segmentation-dataset'"
      ],
      "metadata": {
        "id": "H6FhS4y1lvSQ"
      },
      "execution_count": 19,
      "outputs": []
    },
    {
      "cell_type": "code",
      "source": [
        "#intalando a biblioteca ImageHash -> usada para calculas hashes de imagens\n",
        "\n",
        "!pip install ImageHash"
      ],
      "metadata": {
        "colab": {
          "base_uri": "https://localhost:8080/"
        },
        "id": "6oGaqeAMphbD",
        "outputId": "51713b84-1b96-4545-8414-712c23ed0b00"
      },
      "execution_count": 16,
      "outputs": [
        {
          "output_type": "stream",
          "name": "stdout",
          "text": [
            "Requirement already satisfied: ImageHash in /usr/local/lib/python3.10/dist-packages (4.3.1)\n",
            "Requirement already satisfied: PyWavelets in /usr/local/lib/python3.10/dist-packages (from ImageHash) (1.7.0)\n",
            "Requirement already satisfied: numpy in /usr/local/lib/python3.10/dist-packages (from ImageHash) (1.26.4)\n",
            "Requirement already satisfied: pillow in /usr/local/lib/python3.10/dist-packages (from ImageHash) (10.4.0)\n",
            "Requirement already satisfied: scipy in /usr/local/lib/python3.10/dist-packages (from ImageHash) (1.13.1)\n"
          ]
        }
      ]
    },
    {
      "cell_type": "code",
      "source": [
        "#bibliotecas\n",
        "\n",
        "import pandas as pd #manipulação de dados\n",
        "import imagehash #calcula hashes de imagens(verifica similaridades ou detecta imagens corrompidas)\n",
        "import matplotlib.pyplot as plt #visualização de graficos\n",
        "%matplotlib inline\n",
        "# exibe e gera os gráficos dentro do colab, na célula de baixo\n",
        "\n",
        "from PIL import Image # importa a biblioteca PIL para manipulação de imagens\n",
        "contar_imagens_corrompidas = 0\n",
        "imagens_corrompidas = list() #armazena as imagens corrompidas"
      ],
      "metadata": {
        "id": "XVPB6g73ovQb"
      },
      "execution_count": 27,
      "outputs": []
    },
    {
      "cell_type": "code",
      "source": [
        "data_frame_list = list()\n",
        "\n",
        "for folder in os.listdir(root_dir): #acessando as pastas do diretório\n",
        "  child_dir = os.path.join(root_dir,folder)\n",
        "\n",
        "  for image in os.listdir(child_dir): #acessando as imagens das pastas do diretorio\n",
        "    img_dir = os.path.join(child_dir, image)\n",
        "    _, image_format = image.split('.')\n",
        "    img = cv2.imread(img_dir)\n",
        "    img_rgb = cv2.cvtColor(img, cv2.COLOR_BGR2RGB)\n",
        "\n",
        "    if img is not None:\n",
        "      #convertendo a imagem OPENCV para uma imagem do Pillow\n",
        "      img_pill = Image.fromarray(img_rgb)\n",
        "\n",
        "      #Gerando hash da imagem (usando percentual hash como exemplo)\n",
        "      img_hash = imagehash.phash(img_pill)\n",
        "      width, height, channels = img.shape\n",
        "      img_corrupted = False\n",
        "\n",
        "    else:\n",
        "      contar_imagens_corrompidas += 1\n",
        "      imagens_corrompidas(img_dir)\n",
        "      img_corrompida = True\n",
        "      img_hash, image_format, width, height, channels = None, None, None, None , None\n",
        "\n",
        "      data_frame_list.append([img_dir, img_corrupted, img_hash, image_format,width, height, channels, folder]\n",
        "                             )\n",
        "\n",
        "\n"
      ],
      "metadata": {
        "id": "OnJQaZq6qOeR"
      },
      "execution_count": 24,
      "outputs": []
    },
    {
      "cell_type": "markdown",
      "source": [
        "## Mostrando se tem imagens corrompidas no DF"
      ],
      "metadata": {
        "id": "C-RjL2v1wZt_"
      }
    },
    {
      "cell_type": "code",
      "source": [
        "print(f'QUANTIDADE DE IMAGENS CORROMPIDAS: {contar_imagens_corrompidas} \\n Imagens corrpompidas: {imagens_corrompidas}')\n"
      ],
      "metadata": {
        "colab": {
          "base_uri": "https://localhost:8080/"
        },
        "id": "oUFsiyocuzCI",
        "outputId": "93e4fd84-01d5-496d-a4c9-eec6cc6884c5"
      },
      "execution_count": 28,
      "outputs": [
        {
          "output_type": "stream",
          "name": "stdout",
          "text": [
            "QUANTIDADE DE IMAGENS CORROMPIDAS: 0 \n",
            " Imagens corrpompidas: []\n"
          ]
        }
      ]
    },
    {
      "cell_type": "code",
      "source": [
        "df"
      ],
      "metadata": {
        "id": "SdlJyYHewZPm"
      },
      "execution_count": null,
      "outputs": []
    }
  ]
}
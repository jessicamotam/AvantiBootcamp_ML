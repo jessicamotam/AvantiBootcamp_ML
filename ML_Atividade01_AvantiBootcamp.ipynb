{
  "nbformat": 4,
  "nbformat_minor": 0,
  "metadata": {
    "colab": {
      "provenance": [],
      "authorship_tag": "ABX9TyMYX0ldk/M+trkX6dXSF8K2",
      "include_colab_link": true
    },
    "kernelspec": {
      "name": "python3",
      "display_name": "Python 3"
    },
    "language_info": {
      "name": "python"
    }
  },
  "cells": [
    {
      "cell_type": "markdown",
      "metadata": {
        "id": "view-in-github",
        "colab_type": "text"
      },
      "source": [
        "<a href=\"https://colab.research.google.com/github/jessicamotam/AvantiBootcamp_ML/blob/main/ML_Atividade01_AvantiBootcamp.ipynb\" target=\"_parent\"><img src=\"https://colab.research.google.com/assets/colab-badge.svg\" alt=\"Open In Colab\"/></a>"
      ]
    },
    {
      "cell_type": "code",
      "source": [
        "!apt-get install git\n"
      ],
      "metadata": {
        "colab": {
          "base_uri": "https://localhost:8080/"
        },
        "id": "OOjOGR91dhPY",
        "outputId": "0e527da1-e2c6-43be-ba02-cc2f65f9c43d"
      },
      "execution_count": 1,
      "outputs": [
        {
          "output_type": "stream",
          "name": "stdout",
          "text": [
            "Reading package lists... Done\n",
            "Building dependency tree... Done\n",
            "Reading state information... Done\n",
            "git is already the newest version (1:2.34.1-1ubuntu1.11).\n",
            "0 upgraded, 0 newly installed, 0 to remove and 49 not upgraded.\n"
          ]
        }
      ]
    },
    {
      "cell_type": "code",
      "source": [
        "# clonando repositório\n",
        "!git clone https://github.com/jessicamotam/AvantiBootcamp_ML.git\n",
        "\n",
        "#nome e email no github\n",
        "!git config --global user.email \"jessica.meneezes@hotmail.com\"\n",
        "!git config --global user.name \"jessicamotam\""
      ],
      "metadata": {
        "colab": {
          "base_uri": "https://localhost:8080/"
        },
        "id": "GD07XN84dnMX",
        "outputId": "530ecfa1-3f13-4b62-f659-d43c161efb4a"
      },
      "execution_count": 11,
      "outputs": [
        {
          "output_type": "stream",
          "name": "stdout",
          "text": [
            "Cloning into 'AvantiBootcamp_ML'...\n",
            "remote: Enumerating objects: 6, done.\u001b[K\n",
            "remote: Counting objects: 100% (6/6), done.\u001b[K\n",
            "remote: Compressing objects: 100% (5/5), done.\u001b[K\n",
            "remote: Total 6 (delta 0), reused 0 (delta 0), pack-reused 0 (from 0)\u001b[K\n",
            "Receiving objects: 100% (6/6), done.\n"
          ]
        }
      ]
    },
    {
      "cell_type": "code",
      "source": [
        "%cd AvantiBootcamp_ML"
      ],
      "metadata": {
        "colab": {
          "base_uri": "https://localhost:8080/"
        },
        "id": "qhxfDxfzewF2",
        "outputId": "2f0befcb-340b-4a4c-edf3-fb61ba753ff7"
      },
      "execution_count": 12,
      "outputs": [
        {
          "output_type": "stream",
          "name": "stdout",
          "text": [
            "/content/AvantiBootcamp_ML/AvantiBootcamp_ML\n"
          ]
        }
      ]
    },
    {
      "cell_type": "code",
      "source": [
        "!git status"
      ],
      "metadata": {
        "colab": {
          "base_uri": "https://localhost:8080/"
        },
        "id": "jcUu1tmWe2Cp",
        "outputId": "5ae9952a-01eb-4ff9-9037-fb5537f9ffff"
      },
      "execution_count": 13,
      "outputs": [
        {
          "output_type": "stream",
          "name": "stdout",
          "text": [
            "On branch main\n",
            "Your branch is up to date with 'origin/main'.\n",
            "\n",
            "nothing to commit, working tree clean\n"
          ]
        }
      ]
    },
    {
      "cell_type": "code",
      "source": [
        "#adicionando alterações do arquivo ipynb\n",
        "!git add .\n",
        "!git commit -m \"commmit concluído\"\n",
        "\n",
        "#enviando as alterações para o git\n",
        "\n",
        "!git push origin main"
      ],
      "metadata": {
        "colab": {
          "base_uri": "https://localhost:8080/"
        },
        "id": "vuR3LyLTd-Rf",
        "outputId": "f00e46e1-04da-4608-864c-829b9b3887cb"
      },
      "execution_count": 14,
      "outputs": [
        {
          "output_type": "stream",
          "name": "stdout",
          "text": [
            "On branch main\n",
            "Your branch is up to date with 'origin/main'.\n",
            "\n",
            "nothing to commit, working tree clean\n",
            "fatal: could not read Username for 'https://github.com': No such device or address\n"
          ]
        }
      ]
    },
    {
      "cell_type": "markdown",
      "source": [
        "#Atividade 01 - Módulo 01\n",
        "\n",
        "1. Explique, com suas palavras, o que é machine learning?\n",
        "2. Explique o conceito de conjunto de treinamento, conjunto de validação e\n",
        "conjunto de teste em machine learning.\n",
        "3. Explique como você lidaria com dados ausentes em um conjunto de dados\n",
        "de treinamento.\n",
        "4. O que é uma matriz de confusão e como ela é usada para avaliar o\n",
        "desempenho de um modelo preditivo?\n",
        "5. Em quais áreas (tais como construção civil, agricultura, saúde, manufatura,\n",
        "entre outras) você acha mais interessante aplicar algoritmos de machine\n",
        "learning?"
      ],
      "metadata": {
        "id": "eEZpIIeCcvLc"
      }
    },
    {
      "cell_type": "markdown",
      "source": [
        "## Respostas:\n",
        "\n",
        "1)Explique, com suas palavras, o que é machine learning?\n",
        "\n",
        "r.:\n",
        "\n",
        "2)Explique o conceito de conjunto de treinamento, conjunto de validação e conjunto de teste em machine learning.\n",
        "\n",
        "r.:\n",
        "\n",
        "\n",
        "3) Explique como você lidaria com dados ausentes em um conjunto de dados de treinamento.\n",
        "\n",
        "r.:\n",
        "\n",
        "4) O que é uma matriz de confusão e como ela é usada para avaliar o desempenho de um modelo preditivo?\n",
        "\n",
        "r.:\n",
        "\n",
        "5) Em quais áreas (tais como construção civil, agricultura, saúde, manufatura, entre outras) você acha mais interessante aplicar algoritmos de machine learning?\n",
        "\n",
        "r.:"
      ],
      "metadata": {
        "id": "f30kRazec5ZE"
      }
    },
    {
      "cell_type": "code",
      "source": [],
      "metadata": {
        "id": "GRJTWMc3c8dZ"
      },
      "execution_count": null,
      "outputs": []
    }
  ]
}